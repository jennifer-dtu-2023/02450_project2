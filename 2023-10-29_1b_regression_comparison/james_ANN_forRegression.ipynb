{
 "cells": [
  {
   "cell_type": "markdown",
   "metadata": {},
   "source": [
    "<h1>Two-levels cross-validation for ANN model<h1>"
   ]
  },
  {
   "cell_type": "markdown",
   "metadata": {},
   "source": [
    "Follow our project description two-level cross-validation, \n",
    "- Outer fold should be separated to train dataset and test dataset.\n",
    "- Inner fold training datasets should be divided to training and validation sets.\n",
    "- In inner fold, we should select the best hidden units to minimize the average validatation errors.\n",
    "- As we have already selected the best hidden units in each group, then compare each other by calculating the Generalization in outer fold.\n"
   ]
  },
  {
   "cell_type": "code",
   "execution_count": null,
   "metadata": {},
   "outputs": [],
   "source": []
  }
 ],
 "metadata": {
  "kernelspec": {
   "display_name": "Python 3.11.5 ('MachineLearningExer')",
   "language": "python",
   "name": "python3"
  },
  "language_info": {
   "name": "python",
   "version": "3.11.5"
  },
  "orig_nbformat": 4,
  "vscode": {
   "interpreter": {
    "hash": "12a2eb8910076d8c1464a47385b72d672ab5a774af64507e171042e372c532da"
   }
  }
 },
 "nbformat": 4,
 "nbformat_minor": 2
}
