{
 "cells": [
  {
   "cell_type": "markdown",
   "id": "95bb390b-bc45-440b-ad9c-23f6b234582f",
   "metadata": {},
   "source": [
    "# Two-level cross-validation on the baseline model"
   ]
  },
  {
   "cell_type": "markdown",
   "id": "8ce531fc-a764-4e5e-91b9-fbbec53e13b4",
   "metadata": {},
   "source": [
    "### Date: 2023-10-29\n",
    "### Author: Emma Louise Blair (s214680)"
   ]
  },
  {
   "cell_type": "code",
   "execution_count": 15,
   "id": "6dbaf330-4b46-44b8-b1ea-bb84096f4470",
   "metadata": {},
   "outputs": [],
   "source": [
    "# Load train data\n",
    "x_train = pd.read_csv(\"../2023-10-05_jennifer_data_preparation/independent_train.csv\")\n",
    "y_train = pd.read_csv(\"../2023-10-05_jennifer_data_preparation/dependent_train.csv\")"
   ]
  },
  {
   "cell_type": "code",
   "execution_count": 16,
   "id": "438dd4ad-cd4b-4c74-8c24-ea2ce68a3eef",
   "metadata": {},
   "outputs": [],
   "source": [
    "# Imports\n",
    "import pandas as pd\n",
    "import numpy as np\n",
    "import matplotlib.pyplot as plt\n",
    "import sklearn.linear_model as lm\n",
    "import sklearn.model_selection as ms"
   ]
  },
  {
   "cell_type": "markdown",
   "id": "0161674b-9ee2-482a-9f91-ee7b3c1b628f",
   "metadata": {},
   "source": [
    "The baseline model computes the mean of ```y_train```  data and uses this value to predict ```y_test``` data."
   ]
  },
  {
   "cell_type": "markdown",
   "id": "f08a6465-8bf5-4f08-b0e6-5df9938b702f",
   "metadata": {},
   "source": [
    "We use Algorithm 6: Two-level cross-validation on p. 177 in the book. The below code is partly taken from ex_6_2_1.py."
   ]
  },
  {
   "cell_type": "code",
   "execution_count": 17,
   "id": "403381b2-bdf3-4170-8325-41248060ac14",
   "metadata": {},
   "outputs": [],
   "source": [
    "# Convert from Dataframes to NumPy arrays\n",
    "X = x_train.values\n",
    "y = y_train.values"
   ]
  },
  {
   "cell_type": "code",
   "execution_count": 18,
   "id": "a356ff1d-8494-48db-9d8d-131ec1cc15a8",
   "metadata": {},
   "outputs": [],
   "source": [
    "# No. of folds in outer and inner cross-validation loop, respectively\n",
    "K1 = 10\n",
    "K2 = 10"
   ]
  },
  {
   "cell_type": "code",
   "execution_count": 19,
   "id": "72e00af9-b6f9-480b-87ec-8ee481989c4a",
   "metadata": {},
   "outputs": [],
   "source": [
    "# Initialize E^test array\n",
    "E_test_values = []"
   ]
  },
  {
   "cell_type": "code",
   "execution_count": 20,
   "id": "c3649263-e396-4570-a9e4-ccb394fdf15d",
   "metadata": {},
   "outputs": [],
   "source": [
    "# Function to calculate error\n",
    "def calculate_error(y_true, y_pred):\n",
    "    N_test = len(y_true)\n",
    "    return (1 / N_test) * np.sum((y_true - y_pred)**2)"
   ]
  },
  {
   "cell_type": "code",
   "execution_count": 21,
   "id": "ca225947-22b2-4ace-9210-87c9d6556344",
   "metadata": {},
   "outputs": [],
   "source": [
    "# Outer loop\n",
    "kfold1 = ms.KFold(n_splits=K1)\n",
    "for train_index1, test_index1 in kfold1.split(X):\n",
    "    X_train, X_test = X[train_index1], X[test_index1]\n",
    "    y_train, y_test = y[train_index1], y[test_index1]\n",
    "    \n",
    "    # Inner loop\n",
    "    kfold2 = ms.KFold(n_splits=K2)\n",
    "    for train_index2, test_index2 in kfold2.split(X_train):\n",
    "        X_train_inner, X_val = X_train[train_index2], X_train[test_index2]\n",
    "        y_train_inner, y_val = y_train[train_index2], y_train[test_index2]\n",
    "    \n",
    "    # Train model and calculate E^test\n",
    "    baseline_model = lm.LinearRegression()\n",
    "    baseline_model.fit(X_train, y_train)\n",
    "    y_pred = baseline_model.predict(X_test)\n",
    "    E_test = calculate_error(y_test, y_pred)\n",
    "    E_test_values.append(E_test)"
   ]
  },
  {
   "cell_type": "code",
   "execution_count": 22,
   "id": "c23e9f4d-566c-4580-a003-e647c0b0effb",
   "metadata": {},
   "outputs": [
    {
     "name": "stdout",
     "output_type": "stream",
     "text": [
      "E^test values for each fold: ['0.179', '0.106', '0.192', '0.166', '0.105', '0.145', '0.157', '0.196', '0.207', '0.167']\n"
     ]
    }
   ],
   "source": [
    "# Print E^test values for each fold\n",
    "print(\"E^test values for each fold:\", [f'{x:.3f}' for x in E_test_values])"
   ]
  },
  {
   "cell_type": "code",
   "execution_count": null,
   "id": "880b8e3b-b44c-44f6-bf7d-921ad676ffd9",
   "metadata": {},
   "outputs": [],
   "source": []
  },
  {
   "cell_type": "code",
   "execution_count": null,
   "id": "7154bc53-e546-44df-b625-48f71930de44",
   "metadata": {},
   "outputs": [],
   "source": []
  }
 ],
 "metadata": {
  "kernelspec": {
   "display_name": "Python 3 (ipykernel)",
   "language": "python",
   "name": "python3"
  },
  "language_info": {
   "codemirror_mode": {
    "name": "ipython",
    "version": 3
   },
   "file_extension": ".py",
   "mimetype": "text/x-python",
   "name": "python",
   "nbconvert_exporter": "python",
   "pygments_lexer": "ipython3",
   "version": "3.11.4"
  }
 },
}
