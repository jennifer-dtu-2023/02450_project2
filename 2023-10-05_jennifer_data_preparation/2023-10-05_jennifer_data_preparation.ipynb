{
 "cells": [
  {
   "cell_type": "markdown",
   "metadata": {},
   "source": [
    "### Date: 2023-10-05\n",
    "### Author: Jennifer Fortuny I Zhan\n",
    "### Content: Project 2 Regression, Linear Regression"
   ]
  },
  {
   "cell_type": "markdown",
   "metadata": {},
   "source": [
    "The variable we would like to predict, i.e. our target (the dependent variable) is income\n",
    "- Due to the nature of our data it will end up being a very standard classification problem: is income =<50K or >50K?\n",
    "- Regardless, the regression step should be interesting too.\n",
    "- In the regression step, it would be possible to assign a probability score of predicting a numeric score to represent the likelihood of being in the >50K or <=50K income level. Higher scores mean greater likelyhood of being in the >50K category.\n",
    "\n",
    "The variables we will use to make that prediction, i.e. our features are: age, education-num, hours-per-week, workclass, and occupation (these are the independent variables).\n",
    "\n",
    "I will begin by splitting the entire dataset into a training set and a testing set. I will train my linear regression model on one subset of the data, then test its performance on another, unseen subset."
   ]
  },
  {
   "cell_type": "markdown",
   "metadata": {},
   "source": [
    "Import required libraries"
   ]
  },
  {
   "cell_type": "code",
   "execution_count": 8,
   "metadata": {},
   "outputs": [],
   "source": [
    "from sklearn.preprocessing import StandardScaler, OneHotEncoder\n",
    "from sklearn.model_selection import train_test_split\n",
    "import pandas as pd\n"
   ]
  },
  {
   "cell_type": "markdown",
   "metadata": {},
   "source": [
    "Load the data from the CSV file, then save it as a DataFrame."
   ]
  },
  {
   "cell_type": "code",
   "execution_count": 9,
   "metadata": {},
   "outputs": [],
   "source": [
    "census_data = pd.read_csv('../../filtered_data.csv')\n",
    "census_df = pd.DataFrame(census_data)"
   ]
  },
  {
   "cell_type": "markdown",
   "metadata": {},
   "source": [
    "#### Scaling Numerical Independent Variables\n",
    "\n",
    "Use StandardScaler to scale the numerical independent variables to that each has mean of 0 and s.d. of 1.\n",
    "These varibles are: age, education-num, and hours-per-week."
   ]
  },
  {
   "cell_type": "code",
   "execution_count": 10,
   "metadata": {},
   "outputs": [
    {
     "name": "stdout",
     "output_type": "stream",
     "text": [
      "Original Numeric Independent Data, first row:\n",
      "   age  education-num  hours-per-week workclass        occupation  income\n",
      "0   33             13              40   Private   Exec-managerial   <=50K\n",
      "Scaled Numeric Independent Data, first row:\n",
      "        age  education-num  hours-per-week\n",
      "0 -0.363856       0.867024        0.038178\n"
     ]
    }
   ],
   "source": [
    "# Initialise StandardScaler\n",
    "scaler = StandardScaler()\n",
    "\n",
    "# Fit and transform the numeric independent variables\n",
    "scaled_numeric_ind = scaler.fit_transform(\n",
    "    census_df[['age', 'education-num', 'hours-per-week']])\n",
    "\n",
    "# Save the converted data back into a dataframe\n",
    "scaled_numeric_ind_df = pd.DataFrame(\n",
    "    scaled_numeric_ind,\n",
    "    columns = ['age', 'education-num', 'hours-per-week'])\n",
    "\n",
    "print(\"Original Numeric Independent Data, first row:\")\n",
    "print(census_df.head(1))\n",
    "print(\"Scaled Numeric Independent Data, first row:\")\n",
    "print(scaled_numeric_ind_df.head(1))"
   ]
  },
  {
   "cell_type": "markdown",
   "metadata": {},
   "source": [
    "#### Encoding Categorical Independent Variables\n",
    "\n",
    "Use one-hot encoding () to convert the Categorical Independent Variables: workclass and occupation."
   ]
  },
  {
   "cell_type": "code",
   "execution_count": 11,
   "metadata": {},
   "outputs": [
    {
     "name": "stdout",
     "output_type": "stream",
     "text": [
      "Encoded Categorical Independent Data:, first two rows.\n",
      "   workclass_ ?  workclass_ Federal-gov  workclass_ Local-gov  \\\n",
      "0           0.0                     0.0                   0.0   \n",
      "1           0.0                     0.0                   0.0   \n",
      "\n",
      "   workclass_ Private  workclass_ Self-emp-inc  workclass_ Self-emp-not-inc  \\\n",
      "0                 1.0                      0.0                          0.0   \n",
      "1                 0.0                      0.0                          1.0   \n",
      "\n",
      "   workclass_ State-gov  workclass_ Without-pay  occupation_ ?  \\\n",
      "0                   0.0                     0.0            0.0   \n",
      "1                   0.0                     0.0            0.0   \n",
      "\n",
      "   occupation_ Adm-clerical  ...  occupation_ Farming-fishing  \\\n",
      "0                       0.0  ...                          0.0   \n",
      "1                       0.0  ...                          1.0   \n",
      "\n",
      "   occupation_ Handlers-cleaners  occupation_ Machine-op-inspct  \\\n",
      "0                            0.0                            0.0   \n",
      "1                            0.0                            0.0   \n",
      "\n",
      "   occupation_ Other-service  occupation_ Priv-house-serv  \\\n",
      "0                        0.0                          0.0   \n",
      "1                        0.0                          0.0   \n",
      "\n",
      "   occupation_ Prof-specialty  occupation_ Protective-serv  occupation_ Sales  \\\n",
      "0                         0.0                          0.0                0.0   \n",
      "1                         0.0                          0.0                0.0   \n",
      "\n",
      "   occupation_ Tech-support  occupation_ Transport-moving  \n",
      "0                       0.0                           0.0  \n",
      "1                       0.0                           0.0  \n",
      "\n",
      "[2 rows x 22 columns]\n"
     ]
    },
    {
     "name": "stderr",
     "output_type": "stream",
     "text": [
      "/Users/jenniferfortuny/miniconda3/envs/2023-09-01-02450ml/lib/python3.10/site-packages/sklearn/preprocessing/_encoders.py:972: FutureWarning: `sparse` was renamed to `sparse_output` in version 1.2 and will be removed in 1.4. `sparse_output` is ignored unless you leave `sparse` to its default value.\n",
      "  warnings.warn(\n"
     ]
    }
   ],
   "source": [
    "# Initialise OneHotEncoder\n",
    "encoder = OneHotEncoder(sparse=False)\n",
    "\n",
    "# Fit and transform the categorical independent variables\n",
    "encoded_categorical_ind = encoder.fit_transform(\n",
    "    census_df[[\"workclass\", \"occupation\"]])\n",
    "\n",
    "# Convert the result back into a DataFrame\n",
    "encoded_categorical_ind_df = pd.DataFrame(\n",
    "    encoded_categorical_ind,\n",
    "    columns=encoder.get_feature_names_out([\"workclass\", \"occupation\"]))\n",
    "\n",
    "print(\"Encoded Categorical Independent Data:, first two rows.\")\n",
    "print(encoded_categorical_ind_df.head(2))"
   ]
  },
  {
   "cell_type": "markdown",
   "metadata": {},
   "source": [
    "#### Create Training Data\n"
   ]
  },
  {
   "cell_type": "markdown",
   "metadata": {},
   "source": [
    "Combine the scaled numerical and one-hot encoded categorical independent vairables back into one dataframe. This will be the data frame we use for model training."
   ]
  },
  {
   "cell_type": "code",
   "execution_count": 12,
   "metadata": {},
   "outputs": [
    {
     "name": "stdout",
     "output_type": "stream",
     "text": [
      "        age  education-num  hours-per-week  workclass_ ?  \\\n",
      "0 -0.363856       0.867024        0.038178           0.0   \n",
      "1  0.332890      -0.449454        0.038178           0.0   \n",
      "2 -0.054191      -0.120334        3.159310           0.0   \n",
      "3 -1.060602      -0.120334        0.038178           0.0   \n",
      "4 -0.828354      -0.120334        0.038178           0.0   \n",
      "\n",
      "   workclass_ Federal-gov  workclass_ Local-gov  workclass_ Private  \\\n",
      "0                     0.0                   0.0                 1.0   \n",
      "1                     0.0                   0.0                 0.0   \n",
      "2                     0.0                   0.0                 0.0   \n",
      "3                     0.0                   0.0                 1.0   \n",
      "4                     0.0                   0.0                 1.0   \n",
      "\n",
      "   workclass_ Self-emp-inc  workclass_ Self-emp-not-inc  workclass_ State-gov  \\\n",
      "0                      0.0                          0.0                   0.0   \n",
      "1                      0.0                          1.0                   0.0   \n",
      "2                      1.0                          0.0                   0.0   \n",
      "3                      0.0                          0.0                   0.0   \n",
      "4                      0.0                          0.0                   0.0   \n",
      "\n",
      "   ...  occupation_ Farming-fishing  occupation_ Handlers-cleaners  \\\n",
      "0  ...                          0.0                            0.0   \n",
      "1  ...                          1.0                            0.0   \n",
      "2  ...                          0.0                            0.0   \n",
      "3  ...                          0.0                            0.0   \n",
      "4  ...                          0.0                            0.0   \n",
      "\n",
      "   occupation_ Machine-op-inspct  occupation_ Other-service  \\\n",
      "0                            0.0                        0.0   \n",
      "1                            0.0                        0.0   \n",
      "2                            0.0                        0.0   \n",
      "3                            0.0                        0.0   \n",
      "4                            0.0                        0.0   \n",
      "\n",
      "   occupation_ Priv-house-serv  occupation_ Prof-specialty  \\\n",
      "0                          0.0                         0.0   \n",
      "1                          0.0                         0.0   \n",
      "2                          0.0                         0.0   \n",
      "3                          0.0                         0.0   \n",
      "4                          0.0                         0.0   \n",
      "\n",
      "   occupation_ Protective-serv  occupation_ Sales  occupation_ Tech-support  \\\n",
      "0                          0.0                0.0                       0.0   \n",
      "1                          0.0                0.0                       0.0   \n",
      "2                          0.0                0.0                       0.0   \n",
      "3                          0.0                0.0                       0.0   \n",
      "4                          0.0                0.0                       0.0   \n",
      "\n",
      "   occupation_ Transport-moving  \n",
      "0                           0.0  \n",
      "1                           0.0  \n",
      "2                           0.0  \n",
      "3                           0.0  \n",
      "4                           0.0  \n",
      "\n",
      "[5 rows x 25 columns]\n"
     ]
    }
   ],
   "source": [
    "# Add two dataframes together horizontally, i.e. along axis = 1.\n",
    "training_data_df = pd.concat([scaled_numeric_ind_df, encoded_categorical_ind_df], axis=1 )\n",
    "\n",
    "print(training_data_df.head(5))"
   ]
  },
  {
   "cell_type": "markdown",
   "metadata": {},
   "source": [
    "### Prepare Dependent Variable for Regression Analysis\n",
    "Encode the income variable which contain categoies like \"<=50K\" and \">50K\" into numerical values inorder to carry out linear regression later."
   ]
  },
  {
   "cell_type": "code",
   "execution_count": 13,
   "metadata": {},
   "outputs": [],
   "source": [
    "# Isolate the dependent variable from the original data frame, and\n",
    "# Encode categorical data into numerical data\n",
    "numeric_dependent_df = census_df['income'].replace({\"<=50\": 0, \">50\": 1})"
   ]
  },
  {
   "cell_type": "markdown",
   "metadata": {},
   "source": [
    "#### Split independent variables (features) and dependent variables (target).\n",
    "Use  train_test_split to shuffel the data and split it into training and test subsets"
   ]
  },
  {
   "cell_type": "code",
   "execution_count": 14,
   "metadata": {},
   "outputs": [],
   "source": [
    "independent_train, independent_test, dependent_train, dependent_test = train_test_split(\n",
    "    training_data_df, numeric_dependent_df, \n",
    "    test_size = 0.2, random_state = 42)"
   ]
  },
  {
   "cell_type": "markdown",
   "metadata": {},
   "source": [
    "This concludes the data preparation steps.\n",
    "Next Steps:\n",
    "Load each of the csv files in this folder into your coding space.\n",
    "- Use 'independent_train' and 'dependent_train' when training the model.\n",
    "- Use 'independent_test' and 'dependent_test' when evaluating the model."
   ]
  },
  {
   "cell_type": "code",
   "execution_count": 15,
   "metadata": {},
   "outputs": [],
   "source": [
    "# Saving variables as CSV files to load onto models later.\n",
    "independent_train.to_csv('independent_train.csv', index=False)\n",
    "independent_test.to_csv('independent_test.csv', index=False)\n",
    "dependent_train.to_csv('dependent_train.csv', index=False)\n",
    "dependent_test.to_csv('dependent_test.csv', index=False)"
   ]
  }
 ],
 "metadata": {
  "kernelspec": {
   "display_name": "2023-09-01-02450ml",
   "language": "python",
   "name": "python3"
  },
  "language_info": {
   "codemirror_mode": {
    "name": "ipython",
    "version": 3
   },
   "file_extension": ".py",
   "mimetype": "text/x-python",
   "name": "python",
   "nbconvert_exporter": "python",
   "pygments_lexer": "ipython3",
   "version": "3.10.12"
  },
  "orig_nbformat": 4
 },
 "nbformat": 4,
 "nbformat_minor": 2
}
