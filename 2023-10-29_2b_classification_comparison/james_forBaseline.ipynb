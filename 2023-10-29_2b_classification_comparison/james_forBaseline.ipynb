{
 "cells": [
  {
   "cell_type": "markdown",
   "metadata": {},
   "source": [
    "<h1>Two-level cross validation for baseline<h1>"
   ]
  },
  {
   "cell_type": "markdown",
   "metadata": {},
   "source": [
    "In this section, we used our baseline model to predict income if they are surpassed 50k per month. We use two-level cross validation to see if we could improve our prediction."
   ]
  },
  {
   "cell_type": "code",
   "execution_count": 4,
   "metadata": {},
   "outputs": [],
   "source": [
    "import warnings\n",
    "warnings.simplefilter(action='ignore', category=FutureWarning)\n",
    "import pandas as pd\n",
    "import numpy as np\n",
    "from sklearn.metrics import accuracy_score, confusion_matrix\n",
    "import matplotlib.pyplot as plt\n",
    "import seaborn as sns\n",
    "from sklearn.model_selection import KFold"
   ]
  },
  {
   "cell_type": "code",
   "execution_count": 10,
   "metadata": {},
   "outputs": [],
   "source": [
    "train_x = pd.read_csv(\"/Users/luchengliang/02450_project2/2023-10-05_jennifer_data_preparation/independent_train.csv\")\n",
    "train_y = pd.read_csv(\"/Users/luchengliang/02450_project2/2023-10-05_jennifer_data_preparation/dependent_train.csv\")\n",
    "\n",
    "X = train_x.values\n",
    "y = train_y.values\n",
    "\n",
    "K1 = 10\n",
    "K2 = 10\n",
    "kfold_1 = KFold(n_splits=K1, shuffle=True)\n",
    "kfold_2 = KFold(n_splits=K2, shuffle=True)"
   ]
  },
  {
   "cell_type": "code",
   "execution_count": 16,
   "metadata": {},
   "outputs": [],
   "source": [
    "def baseline_model(train, test):\n",
    "    #Calaculate the most frequent appearance in the class (0, 1)\n",
    "    most_freq_class = np.bincount(train.flatten()).argmax()\n",
    "    predictions = np.full_like(test, most_freq_class)\n",
    "    \n",
    "    diff_values_count = np.sum(predictions != test)\n",
    "    \n",
    "    total_elements = test.size\n",
    "    \n",
    "    E_val = diff_values_count / total_elements\n",
    "    \n",
    "    return E_val"
   ]
  },
  {
   "cell_type": "code",
   "execution_count": 18,
   "metadata": {},
   "outputs": [],
   "source": [
    "outer_Generalization_errors = []\n",
    "\n",
    "for train_ids, test_ids in kfold_1.split(X):\n",
    "    X_train, X_test = X[train_ids], X[test_ids]\n",
    "    y_train, y_test = y[train_ids], y[test_ids]\n",
    "    \n",
    "    inner_Generalization_errors = []\n",
    "    \n",
    "    for inner_train_ids, inner_test_ids in kfold_2.split(X_train):\n",
    "        inner_X_train, inner_X_val = X[inner_train_ids], X[inner_test_ids]\n",
    "        inner_y_train, inner_y_val = y[inner_train_ids], y[inner_test_ids]\n",
    "        \n",
    "        inner_E_val = baseline_model(inner_y_train, inner_y_val)\n",
    "        \n",
    "        inner_Generalization_errors.append(inner_E_val)\n",
    "    \n",
    "    outer_E_val = baseline_model(y_train, y_test)\n",
    "    \n",
    "    outer_Generalization_errors.append(outer_E_val)\n",
    "    \n"
   ]
  },
  {
   "cell_type": "code",
   "execution_count": 20,
   "metadata": {},
   "outputs": [
    {
     "name": "stdout",
     "output_type": "stream",
     "text": [
      "E^test values for each inner-fold: ['0.375', '0.174', '0.304', '0.130', '0.174', '0.435', '0.217', '0.304', '0.130', '0.130']\n",
      "E^test values for each outer-fold: ['0.231', '0.231', '0.192', '0.308', '0.231', '0.115', '0.240', '0.280', '0.280', '0.160']\n"
     ]
    }
   ],
   "source": [
    "print(\"E^test values for each inner-fold:\", [f'{x:.3f}' for x in inner_Generalization_errors])\n",
    "print(\"E^test values for each outer-fold:\", [f'{x:.3f}' for x in outer_Generalization_errors])"
   ]
  },
  {
   "cell_type": "markdown",
   "metadata": {},
   "source": [
    "As we didn't modify or try the other methods for our model, so even we used this optimization way. The model still could not be improved and lowered its generalization errors."
   ]
  }
 ],
 "metadata": {
  "kernelspec": {
   "display_name": "Python 3.11.5 ('MachineLearningExer')",
   "language": "python",
   "name": "python3"
  },
  "language_info": {
   "codemirror_mode": {
    "name": "ipython",
    "version": 3
   },
   "file_extension": ".py",
   "mimetype": "text/x-python",
   "name": "python",
   "nbconvert_exporter": "python",
   "pygments_lexer": "ipython3",
   "version": "3.11.5"
  },
  "orig_nbformat": 4,
  "vscode": {
   "interpreter": {
    "hash": "12a2eb8910076d8c1464a47385b72d672ab5a774af64507e171042e372c532da"
   }
  }
 },
 "nbformat": 4,
 "nbformat_minor": 2
}
