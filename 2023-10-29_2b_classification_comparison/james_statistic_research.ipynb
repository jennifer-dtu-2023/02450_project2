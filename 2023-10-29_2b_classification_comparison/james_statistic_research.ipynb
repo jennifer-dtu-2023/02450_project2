{
 "cells": [
  {
   "cell_type": "code",
   "execution_count": 122,
   "metadata": {},
   "outputs": [],
   "source": [
    "import warnings\n",
    "warnings.simplefilter(action='ignore', category=FutureWarning)"
   ]
  },
  {
   "cell_type": "code",
   "execution_count": 171,
   "metadata": {},
   "outputs": [],
   "source": [
    "import numpy as np\n",
    "from scipy import stats\n",
    "from statsmodels.stats.contingency_tables import mcnemar\n",
    "import pandas as pd\n",
    "from sklearn.metrics import accuracy_score, confusion_matrix\n",
    "from scipy.stats import chi2_contingency\n",
    "from scipy.stats import binom\n"
   ]
  },
  {
   "cell_type": "code",
   "execution_count": 187,
   "metadata": {},
   "outputs": [],
   "source": [
    "Baseline_E = np.array([0.231, 0.231, 0.192, 0.308, 0.231, 0.115, 0.240, 0.280, 0.280, 0.160])\n",
    "Logistic_E = np.array([0.231, 0.192, 0.308, 0.346, 0.154, 0.231, 0.240, 0.280, 0.280, 0.320])\n",
    "CT_E = np.array([0.269, 0.115, 0.192, 0.231, 0.077, 0.154, 0.200, 0.200, 0.280, 0.120])"
   ]
  },
  {
   "cell_type": "code",
   "execution_count": 188,
   "metadata": {},
   "outputs": [],
   "source": [
    "def McNemar_t(first_model, stardard_model, n):\n",
    "    \n",
    "    n_11 = sum((1 - first_model) + (1 - stardard_model))*25  # *25 is because of the outer fold contains approximately 25 data smaples to let us test \n",
    "                                                                #hence we cannot use the standardize ones here if we would like to use the McNerma's package\n",
    "    n_12 = sum((1 - first_model) + stardard_model)*25\n",
    "    n_21 = sum(first_model + (1 - stardard_model))*25\n",
    "    n_22 = sum(first_model + stardard_model)*25\n",
    "    \n",
    "    confusion_matrix = [\n",
    "        [n_11, n_12],\n",
    "        [n_21, n_22]\n",
    "    ]\n",
    "    \n",
    "    \n",
    "    # McNemar's test\n",
    "    result = mcnemar(confusion_matrix, exact=True)\n",
    "    \n",
    "    E_theta = (n_12 - n_21)/(n*25)\n",
    "    \n",
    "    # Calculate the confidence interval based on chi-squared distribution\n",
    "    alpha = 0.05  # significance level 95% CI\n",
    "    \n",
    "    # Find the critical values for the confidence interval\n",
    "    #theata_L_value = chi2_contingency(confusion_matrix, alpha / 2)[0]\n",
    "    #theata_U_value = chi2_contingency(confusion_matrix, 1 - alpha / 2)[0]\n",
    "\n",
    "    \n",
    "    # Calculate the confidence interval\n",
    "    #theata_L = 0.5 * (1 - np.sqrt(1 - theata_L_value / (n_11 + n_12)))\n",
    "    #theata_U = 0.5 * (1 + np.sqrt(1 - theata_U_value / (n_11 + n_12)))\n",
    "    \n",
    "    alpha = 0.05  # 95% CI\n",
    "    Q = (n**2 * (n+1)*(E_theta + 1)*(1 - E_theta)) / (n*(n_12 + n_21) - (n_12 - n_21)**2)\n",
    "    f = (E_theta+1)/2 * (Q - 1)\n",
    "    g = (1 - E_theta)/2 * (Q - 1)\n",
    "    \n",
    "    theta_L = 2 * binom.ppf(alpha/2, f, g) - 1\n",
    "    theta_U = 2 * binom.ppf(1 - alpha/2, f, g) - 1\n",
    "    \n",
    "\n",
    "    print(\"McNemar's test statistic:\", result.statistic)\n",
    "    print(\"p-value:\", result.pvalue)\n",
    "    print(\"E_theata:\", E_theta)\n",
    "    print(f\"Confidence interval: ({theta_L}, {theta_U})\")"
   ]
  },
  {
   "cell_type": "markdown",
   "metadata": {},
   "source": [
    "<h1>Compare Baseline model and Logistic Regression model<h1>"
   ]
  },
  {
   "cell_type": "code",
   "execution_count": 189,
   "metadata": {},
   "outputs": [
    {
     "name": "stdout",
     "output_type": "stream",
     "text": [
      "[0.231 0.231 0.192 0.308 0.231 0.115 0.24  0.28  0.28  0.16 ]\n",
      "[0.231 0.192 0.308 0.346 0.154 0.231 0.24  0.28  0.28  0.32 ]\n"
     ]
    }
   ],
   "source": [
    "print(Baseline_E)\n",
    "print(Logistic_E)"
   ]
  },
  {
   "cell_type": "code",
   "execution_count": 190,
   "metadata": {},
   "outputs": [
    {
     "name": "stdout",
     "output_type": "stream",
     "text": [
      "McNemar's test statistic: 242.15\n",
      "p-value: 0.5023743407533191\n",
      "E_theata: -0.06280000000000006\n",
      "Confidence interval: (nan, nan)\n"
     ]
    }
   ],
   "source": [
    "n = 10\n",
    "McNemar_t(Logistic_E, Baseline_E, n)"
   ]
  },
  {
   "cell_type": "markdown",
   "metadata": {},
   "source": [
    "<h1>Compare Logistic Regression  and Classification Trees Values<h1>"
   ]
  },
  {
   "cell_type": "code",
   "execution_count": 191,
   "metadata": {},
   "outputs": [
    {
     "name": "stdout",
     "output_type": "stream",
     "text": [
      "[0.269 0.115 0.192 0.231 0.077 0.154 0.2   0.2   0.28  0.12 ]\n",
      "[0.231 0.192 0.308 0.346 0.154 0.231 0.24  0.28  0.28  0.32 ]\n"
     ]
    }
   ],
   "source": [
    "print(CT_E)\n",
    "print(Logistic_E)"
   ]
  },
  {
   "cell_type": "code",
   "execution_count": 192,
   "metadata": {},
   "outputs": [
    {
     "name": "stdout",
     "output_type": "stream",
     "text": [
      "McNemar's test statistic: 231.4\n",
      "p-value: 0.09789002802762435\n",
      "E_theata: 0.14880000000000007\n",
      "Confidence interval: (nan, nan)\n"
     ]
    }
   ],
   "source": [
    "# We use the Classification Trees  as a standard for Logistic Regression\n",
    "n = 10\n",
    "McNemar_t(CT_E, Logistic_E, n)"
   ]
  },
  {
   "cell_type": "markdown",
   "metadata": {},
   "source": [
    "<h1>Compare Classification Trees Values and Baseline model<h1>"
   ]
  },
  {
   "cell_type": "code",
   "execution_count": 193,
   "metadata": {},
   "outputs": [
    {
     "name": "stdout",
     "output_type": "stream",
     "text": [
      "[0.269 0.115 0.192 0.231 0.077 0.154 0.2   0.2   0.28  0.12 ]\n",
      "[0.231 0.231 0.192 0.308 0.231 0.115 0.24  0.28  0.28  0.16 ]\n"
     ]
    }
   ],
   "source": [
    "print(CT_E)\n",
    "print(Baseline_E)"
   ]
  },
  {
   "cell_type": "code",
   "execution_count": 194,
   "metadata": {},
   "outputs": [
    {
     "name": "stdout",
     "output_type": "stream",
     "text": [
      "McNemar's test statistic: 239.25\n",
      "p-value: 0.3476641793130139\n",
      "E_theata: 0.086\n",
      "Confidence interval: (nan, nan)\n"
     ]
    }
   ],
   "source": [
    "n = 10\n",
    "McNemar_t(CT_E, Baseline_E, n)"
   ]
  }
 ],
 "metadata": {
  "kernelspec": {
   "display_name": "Python 3.11.5 ('MachineLearningExer')",
   "language": "python",
   "name": "python3"
  },
  "language_info": {
   "codemirror_mode": {
    "name": "ipython",
    "version": 3
   },
   "file_extension": ".py",
   "mimetype": "text/x-python",
   "name": "python",
   "nbconvert_exporter": "python",
   "pygments_lexer": "ipython3",
   "version": "3.11.5"
  },
  "orig_nbformat": 4,
  "vscode": {
   "interpreter": {
    "hash": "12a2eb8910076d8c1464a47385b72d672ab5a774af64507e171042e372c532da"
   }
  }
 },
 "nbformat": 4,
 "nbformat_minor": 2
}
