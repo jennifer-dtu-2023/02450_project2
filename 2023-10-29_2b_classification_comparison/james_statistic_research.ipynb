{
 "cells": [
  {
   "cell_type": "code",
   "execution_count": 7,
   "metadata": {},
   "outputs": [],
   "source": [
    "import warnings\n",
    "warnings.simplefilter(action='ignore', category=FutureWarning)"
   ]
  },
  {
   "cell_type": "code",
   "execution_count": 17,
   "metadata": {},
   "outputs": [],
   "source": [
    "import numpy as np\n",
    "from scipy import stats"
   ]
  },
  {
   "cell_type": "code",
   "execution_count": 10,
   "metadata": {},
   "outputs": [],
   "source": [
    "Baseline_E = np.array([0.231, 0.231, 0.192, 0.308, 0.231, 0.115, 0.240, 0.280, 0.280, 0.160])\n",
    "Logistic_E = np.array([0.231, 0.192, 0.308, 0.346, 0.154, 0.231, 0.240, 0.280, 0.280, 0.320])\n",
    "CT_E = np.array([0.269, 0.115, 0.192, 0.231, 0.077, 0.154, 0.200, 0.200, 0.280, 0.120])"
   ]
  },
  {
   "cell_type": "markdown",
   "metadata": {},
   "source": [
    "<h1>Compare Baseline model and Logistic Regression model<h1>"
   ]
  },
  {
   "cell_type": "code",
   "execution_count": 22,
   "metadata": {},
   "outputs": [
    {
     "name": "stdout",
     "output_type": "stream",
     "text": [
      "[0.231 0.231 0.192 0.308 0.231 0.115 0.24  0.28  0.28  0.16 ]\n",
      "[0.231 0.192 0.308 0.346 0.154 0.231 0.24  0.28  0.28  0.32 ]\n"
     ]
    }
   ],
   "source": [
    "print(Baseline_E)\n",
    "print(Logistic_E)"
   ]
  },
  {
   "cell_type": "code",
   "execution_count": 21,
   "metadata": {},
   "outputs": [
    {
     "name": "stdout",
     "output_type": "stream",
     "text": [
      "Model 1 Average McNemar's test statistic: 0.014033920249492543\n",
      "Model 2 Average McNemar's test statistic: 0.014033920249492543\n",
      "Paired t-test p-value: nan\n"
     ]
    }
   ],
   "source": [
    "# Calculate McNemar's test statistic for each fold\n",
    "n_11 = Logistic_E\n"
   ]
  },
  {
   "cell_type": "code",
   "execution_count": null,
   "metadata": {},
   "outputs": [],
   "source": []
  }
 ],
 "metadata": {
  "kernelspec": {
   "display_name": "Python 3.11.5 ('MachineLearningExer')",
   "language": "python",
   "name": "python3"
  },
  "language_info": {
   "codemirror_mode": {
    "name": "ipython",
    "version": 3
   },
   "file_extension": ".py",
   "mimetype": "text/x-python",
   "name": "python",
   "nbconvert_exporter": "python",
   "pygments_lexer": "ipython3",
   "version": "3.11.5"
  },
  "orig_nbformat": 4,
  "vscode": {
   "interpreter": {
    "hash": "12a2eb8910076d8c1464a47385b72d672ab5a774af64507e171042e372c532da"
   }
  }
 },
 "nbformat": 4,
 "nbformat_minor": 2
}
