{
 "cells": [
  {
   "cell_type": "markdown",
   "metadata": {},
   "source": [
    "### Date: 2023-10-29\n",
    "### Author: Jennifer Fortuny I Zhan\n",
    "### Content: Project 2 Classification, Classification Trees Values\n",
    "\n",
    "In this analysis, we employ a Decision Tree Classifier to categorize individuals based on their income levels, either above or below $50K.\n",
    "\n",
    "We used 10-fold cross-validation and hyperparameter tuning to optimize the model, focusing on minimizing the test error rate.\n",
    "\n",
    "Workflow Overview:\n",
    "1. Loaded the pre-processed training data.\n",
    "2. Initialized the 10-fold cross-validation and a set of complexity parameters\n",
    "3. Performed a 10-fold cross-validation by\n",
    "    - Training the Classification Tree using different complexity parameters for each fold.\n",
    "    - Computing the test error rate for each fold an each complexity parameter.\n",
    "4. Recorded the best complexity parameter and test error rate for each fold.\n",
    "5. Printed the best complexity values and test error rates for each fold"
   ]
  },
  {
   "cell_type": "code",
   "execution_count": 23,
   "metadata": {},
   "outputs": [
    {
     "name": "stdout",
     "output_type": "stream",
     "text": [
      "Best complexity values for each fold: [1, 4, 3, 3, 3, 3, 7, 1, 6, 1]\n",
      "Test error rate for each fold: ['0.269', '0.115', '0.192', '0.231', '0.077', '0.154', '0.200', '0.200', '0.280', '0.120']\n"
     ]
    }
   ],
   "source": [
    "from sklearn.tree import DecisionTreeClassifier\n",
    "from sklearn.model_selection import KFold\n",
    "import numpy as np\n",
    "import pandas as pd\n",
    "\n",
    "# Load the data\n",
    "independent_train_df = pd.read_csv('../2023-10-05_jennifer_data_preparation/independent_train.csv')\n",
    "dependent_train_df = pd.read_csv('../2023-10-05_jennifer_data_preparation/dependent_train.csv')\n",
    "\n",
    "# Initialize variables\n",
    "K = 10  # Number of folds\n",
    "complexity_parameters = [1, 2, 3, 4, 5, 6, 7, 8, 9, 10]\n",
    "\n",
    "best_complexity_values = []\n",
    "E_test_values = []\n",
    "\n",
    "# K-Fold Cross-Validation\n",
    "kf = KFold(n_splits=K)\n",
    "\n",
    "for train_index, test_index in kf.split(independent_train_df):\n",
    "    X_train, X_test = independent_train_df.iloc[train_index], independent_train_df.iloc[test_index]\n",
    "    y_train, y_test = dependent_train_df.iloc[train_index], dependent_train_df.iloc[test_index]\n",
    "\n",
    "    best_error = float('inf')\n",
    "    best_complexity = None\n",
    "\n",
    "    for cp in complexity_parameters:\n",
    "        model = DecisionTreeClassifier(max_depth=cp)\n",
    "        model.fit(X_train, y_train)\n",
    "        y_pred = model.predict(X_test)\n",
    "        error = np.mean(y_pred != y_test.to_numpy().ravel())\n",
    "\n",
    "        if error < best_error:\n",
    "            best_error = error\n",
    "            best_complexity = cp\n",
    "\n",
    "    best_complexity_values.append(best_complexity)\n",
    "    E_test_values.append(best_error)\n",
    "\n",
    "print(f'Best complexity values for each fold: {best_complexity_values}')\n",
    "print(f'Test error rate for each fold: {[\"{:.3f}\".format(x) for x in E_test_values]}')"
   ]
  },
  {
   "cell_type": "markdown",
   "metadata": {},
   "source": [
    "From the restuls, 3 is the most frequently appearing best complexity value, making it a candidate for further refinement.\n",
    "The test error rates ranged from 0.077 to 0.280, this suggests that the model has some predictive power with areas for further improvement."
   ]
  }
 ],
 "metadata": {
  "kernelspec": {
   "display_name": "Python 3.11.5 ('MachineLearningExer')",
   "language": "python",
   "name": "python3"
  },
  "language_info": {
   "codemirror_mode": {
    "name": "ipython",
    "version": 3
   },
   "file_extension": ".py",
   "mimetype": "text/x-python",
   "name": "python",
   "nbconvert_exporter": "python",
   "pygments_lexer": "ipython3",
   "version": "3.11.5"
  },
  "vscode": {
   "interpreter": {
    "hash": "12a2eb8910076d8c1464a47385b72d672ab5a774af64507e171042e372c532da"
   }
  }
 },
 "nbformat": 4,
 "nbformat_minor": 2
}
