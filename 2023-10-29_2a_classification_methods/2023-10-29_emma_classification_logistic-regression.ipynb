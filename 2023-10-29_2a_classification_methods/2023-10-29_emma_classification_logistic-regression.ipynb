{
 "cells": [
  {
   "cell_type": "markdown",
   "id": "f394f648-a5c0-4748-9726-89624fa127ac",
   "metadata": {},
   "source": [
    "# Classification: Logistic Regression"
   ]
  },
  {
   "cell_type": "markdown",
   "id": "60fea25f-0160-4537-b587-6300534b124f",
   "metadata": {},
   "source": [
    "### Date: 2023-10-29\n",
    "### Author: Emma Louise Blair (s214680)"
   ]
  },
  {
   "cell_type": "code",
   "execution_count": 8,
   "id": "a7ff666c-7ae4-4d7e-92b1-913b615d8dd3",
   "metadata": {},
   "outputs": [],
   "source": [
    "# Imports\n",
    "import pandas as pd\n",
    "import numpy as np\n",
    "import matplotlib.pyplot as plt\n",
    "import sklearn.linear_model as lm\n",
    "from sklearn.metrics import accuracy_score, confusion_matrix\n",
    "import seaborn as sns"
   ]
  },
  {
   "cell_type": "code",
   "execution_count": 9,
   "id": "642e2418-0957-4ff3-9922-933720c52078",
   "metadata": {},
   "outputs": [],
   "source": [
    "# Load train and test data (x are attributes and y are true values)\n",
    "x_train_df = pd.read_csv(\"../2023-10-05_jennifer_data_preparation/independent_train.csv\")\n",
    "y_train_df = pd.read_csv(\"../2023-10-05_jennifer_data_preparation/dependent_train.csv\")\n",
    "x_test_df = pd.read_csv(\"../2023-10-05_jennifer_data_preparation/independent_test.csv\")\n",
    "y_test_df = pd.read_csv(\"../2023-10-05_jennifer_data_preparation/dependent_test.csv\")"
   ]
  },
  {
   "cell_type": "code",
   "execution_count": 10,
   "id": "94784079-b772-4e14-a07d-73e7d377f623",
   "metadata": {},
   "outputs": [],
   "source": [
    "# Flatten dependent variables (y) to 1D array\n",
    "y_train = np.ravel(y_train_df)\n",
    "y_test = np.ravel(y_test_df)"
   ]
  },
  {
   "cell_type": "markdown",
   "id": "cf1d4519-3576-4266-bba1-42d909594e75",
   "metadata": {},
   "source": [
    "We select Logistic Regression for the model. We then fit the model with the training data and predict y from the x test data. We have not introduced any regularization parameters yet."
   ]
  },
  {
   "cell_type": "code",
   "execution_count": 11,
   "id": "6d3bfba2-f95d-461e-a17b-efa7e0c69052",
   "metadata": {},
   "outputs": [],
   "source": [
    "# Creating model\n",
    "model = lm.LogisticRegression()\n",
    "\n",
    "# Fitting training data to logistic regression model\n",
    "model.fit(x_train_df, y_train)\n",
    "\n",
    "# Predict\n",
    "y_pred = model.predict(x_test_df)"
   ]
  },
  {
   "cell_type": "markdown",
   "id": "c01fbe64-cd26-4282-9b71-58b7850daf86",
   "metadata": {},
   "source": [
    "To test the Logistic Regression classification model's performance we use confusion matrix and accuracy score."
   ]
  },
  {
   "cell_type": "code",
   "execution_count": 12,
   "id": "aa68aa02-159e-48b5-abf7-a5ed27af3e16",
   "metadata": {},
   "outputs": [
    {
     "name": "stdout",
     "output_type": "stream",
     "text": [
      "Accuracy for Logistic Regression classification: 0.766\n",
      "Confusion Matrix: \n",
      "[[43  1]\n",
      " [14  6]]\n"
     ]
    }
   ],
   "source": [
    "# Confusion matrix\n",
    "conf_matrix = confusion_matrix(y_test, y_pred)\n",
    "accuracy = accuracy_score(y_test, y_pred)\n",
    "\n",
    "# Print results\n",
    "print(f'Accuracy for Logistic Regression classification: {accuracy:.3f}')\n",
    "print('Confusion Matrix: ')\n",
    "print(conf_matrix)"
   ]
  },
  {
   "cell_type": "code",
   "execution_count": 13,
   "id": "fda8f83a-66d1-4659-bc0f-7cea700beb8b",
   "metadata": {},
   "outputs": [
    {
     "data": {
      "image/png": "[encoded data removed]",
      "text/plain": [
       "<Figure size 640x480 with 2 Axes>"
      ]
     },
     "metadata": {},
     "output_type": "display_data"
    }
   ],
   "source": [
    "sns.heatmap(conf_matrix, annot=True, fmt='g', cmap='Blues')\n",
    "plt.xlabel('Predicted')\n",
    "plt.ylabel('Actual')\n",
    "plt.show()"
   ]
  }
 ],
 "metadata": {
  "kernelspec": {
   "display_name": "Python 3 (ipykernel)",
   "language": "python",
   "name": "python3"
  },
  "language_info": {
   "codemirror_mode": {
    "name": "ipython",
    "version": 3
   },
   "file_extension": ".py",
   "mimetype": "text/x-python",
   "name": "python",
   "nbconvert_exporter": "python",
   "pygments_lexer": "ipython3",
   "version": "3.11.4"
  }
 },
 "nbformat": 4,
 "nbformat_minor": 5
}
